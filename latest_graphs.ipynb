{
  "nbformat": 4,
  "nbformat_minor": 0,
  "metadata": {
    "colab": {
      "name": "graphs.ipynb",
      "provenance": [],
      "collapsed_sections": [],
      "include_colab_link": true
    },
    "kernelspec": {
      "name": "python3",
      "display_name": "Python 3"
    },
    "language_info": {
      "name": "python"
    },
    "accelerator": "GPU"
  },
  "cells": [
    {
      "cell_type": "markdown",
      "metadata": {
        "id": "view-in-github",
        "colab_type": "text"
      },
      "source": [
        "<a href=\"https://colab.research.google.com/github/BuseFidan/buildOpenCV/blob/master/latest_graphs.ipynb\" target=\"_parent\"><img src=\"https://colab.research.google.com/assets/colab-badge.svg\" alt=\"Open In Colab\"/></a>"
      ]
    },
    {
      "cell_type": "code",
      "metadata": {
        "id": "nVtOFyCzBja3"
      },
      "source": [
        "import pickle\n",
        "import pandas as pd\n",
        "import numpy as np\n",
        "import keras\n",
        "import tensorflow as tf\n",
        "import matplotlib.pyplot as plt\n",
        "\n",
        "from keras.utils import np_utils\n",
        "from keras import metrics\n",
        "#from sklearn.metrics import confusion_matrix\n",
        "from keras.models import Sequential, Model\n",
        "from keras.layers import Dense, Flatten, Conv2D, MaxPooling2D, Dropout, Reshape, Activation, LSTM\n",
        "\n",
        "from keras.losses import categorical_crossentropy\n",
        "from keras.callbacks import EarlyStopping\n",
        "\n",
        "from tensorflow.keras.optimizers import SGD, Adam\n",
        "from tensorflow.keras.layers import BatchNormalization\n",
        "from sklearn.model_selection import train_test_split\n",
        "from sklearn.preprocessing import OneHotEncoder\n",
        "from tensorflow.keras.utils import to_categorical"
      ],
      "execution_count": 1,
      "outputs": []
    },
    {
      "cell_type": "code",
      "metadata": {
        "id": "GaYMu0AtFP_V",
        "colab": {
          "base_uri": "https://localhost:8080/"
        },
        "outputId": "600c37ba-175c-4c40-cad1-b14183da5d9b"
      },
      "source": [
        "from google.colab import drive\n",
        "drive.mount('/content/drive')"
      ],
      "execution_count": 2,
      "outputs": [
        {
          "output_type": "stream",
          "text": [
            "Mounted at /content/drive\n"
          ],
          "name": "stdout"
        }
      ]
    },
    {
      "cell_type": "code",
      "metadata": {
        "id": "k0APvDV_BoRv"
      },
      "source": [
        "import tarfile\n",
        "tar = tarfile.open(\"/content/drive/MyDrive/RML2016.10a.tar.bz2\", \"r:bz2\")  \n",
        "tar.extractall()"
      ],
      "execution_count": 3,
      "outputs": []
    },
    {
      "cell_type": "code",
      "metadata": {
        "id": "0X4Q6T1UDPbz"
      },
      "source": [
        "with open(\"RML2016.10a_dict.pkl\", \"rb\") as p:\n",
        "    d = pickle.load(p, encoding='latin1')"
      ],
      "execution_count": 6,
      "outputs": []
    },
    {
      "cell_type": "code",
      "metadata": {
        "colab": {
          "base_uri": "https://localhost:8080/"
        },
        "id": "YyPOI69OFceD",
        "outputId": "df07d550-09d6-4b83-ae78-ffd031d5f615"
      },
      "source": [
        "from numpy import array\n",
        "from numpy import argmax\n",
        "from sklearn.preprocessing import LabelEncoder\n",
        "from sklearn.preprocessing import OneHotEncoder\n",
        "\n",
        "modulation_types = []    \n",
        "for i in d.keys():    \n",
        "    if i[0] not in modulation_types:\n",
        "        modulation_types.append(i[0])\n",
        "\n",
        "\n",
        "values = array(modulation_types)\n",
        "print(\"values: \",values)\n",
        "label_encoder = LabelEncoder().fit(values)\n",
        "integer_encoded = LabelEncoder().fit_transform(values)\n",
        "print(integer_encoded)\n",
        "\n",
        "onehot_encoder = OneHotEncoder(sparse=False)\n",
        "integer_encoded = integer_encoded.reshape(len(integer_encoded), 1)\n",
        "onehot_encoded = onehot_encoder.fit_transform(integer_encoded)\n",
        "print(onehot_encoded)\n",
        "\n",
        "inverted = label_encoder.inverse_transform([argmax(onehot_encoded[0, :])])\n",
        "print(inverted)"
      ],
      "execution_count": 13,
      "outputs": [
        {
          "output_type": "stream",
          "text": [
            "values:  ['QPSK' 'PAM4' 'AM-DSB' 'GFSK' 'QAM64' 'AM-SSB' '8PSK' 'QAM16' 'WBFM'\n",
            " 'CPFSK' 'BPSK']\n",
            "[ 9  6  1  5  8  2  0  7 10  4  3]\n",
            "[[0. 0. 0. 0. 0. 0. 0. 0. 0. 1. 0.]\n",
            " [0. 0. 0. 0. 0. 0. 1. 0. 0. 0. 0.]\n",
            " [0. 1. 0. 0. 0. 0. 0. 0. 0. 0. 0.]\n",
            " [0. 0. 0. 0. 0. 1. 0. 0. 0. 0. 0.]\n",
            " [0. 0. 0. 0. 0. 0. 0. 0. 1. 0. 0.]\n",
            " [0. 0. 1. 0. 0. 0. 0. 0. 0. 0. 0.]\n",
            " [1. 0. 0. 0. 0. 0. 0. 0. 0. 0. 0.]\n",
            " [0. 0. 0. 0. 0. 0. 0. 1. 0. 0. 0.]\n",
            " [0. 0. 0. 0. 0. 0. 0. 0. 0. 0. 1.]\n",
            " [0. 0. 0. 0. 1. 0. 0. 0. 0. 0. 0.]\n",
            " [0. 0. 0. 1. 0. 0. 0. 0. 0. 0. 0.]]\n",
            "['QPSK']\n"
          ],
          "name": "stdout"
        }
      ]
    },
    {
      "cell_type": "code",
      "metadata": {
        "id": "u6PyOPfmYLN-"
      },
      "source": [
        "SNRs = {}\n",
        "for key in d.keys():\n",
        "    if key not in SNRs:\n",
        "        SNRs[key[1]] = []\n",
        "\n",
        "for keys in d.keys():\n",
        "    for arrays in d[keys]:\n",
        "        # convert labels to one-hot encoders.\n",
        "        index = values.tolist().index(keys[0])\n",
        "        SNRs[keys[1]].append([onehot_encoded[index, :],np.array(arrays)]) "
      ],
      "execution_count": 14,
      "outputs": []
    },
    {
      "cell_type": "code",
      "metadata": {
        "colab": {
          "base_uri": "https://localhost:8080/"
        },
        "id": "nilH-pqRYbDu",
        "outputId": "f2671383-0344-465f-9a83-47b40b2cf2a6"
      },
      "source": [
        "import itertools\n",
        "new_data = []\n",
        "for key in SNRs.keys():   \n",
        "    new_data.append(SNRs[key][:])\n",
        "\n",
        "new_data = list(itertools.chain.from_iterable(new_data))\n",
        "\n",
        "dataset = []\n",
        "labels = []\n",
        "\n",
        "for values in new_data:\n",
        "    labels.append(values[0])\n",
        "    dataset.append(values[1])\n",
        "\n",
        "#dataset = np.vstack(dataset)\n",
        "label = np.array(labels)\n",
        "dataset = np.array(dataset)\n",
        "label.shape\n",
        "dataset.shape"
      ],
      "execution_count": 58,
      "outputs": [
        {
          "output_type": "execute_result",
          "data": {
            "text/plain": [
              "(220000, 2, 128)"
            ]
          },
          "metadata": {},
          "execution_count": 58
        }
      ]
    },
    {
      "cell_type": "code",
      "metadata": {
        "id": "Hjl4P_CRFhSQ",
        "colab": {
          "base_uri": "https://localhost:8080/"
        },
        "outputId": "f461e932-8e9b-4573-9cf9-d6009d68fe7c"
      },
      "source": [
        "inputs = []  #2d\n",
        "outputs = []  #1d\n",
        "for mod in modulation_types:\n",
        "    for snr in SNRs:\n",
        "        inputs.append(data[(mod,snr)])\n",
        "        for i in range(data[(mod,snr)].shape[0]):  \n",
        "            outputs.append(mod)\n",
        "\n",
        "inputs = np.vstack(inputs)\n",
        "data[(mod,snr)].shape[0]\n",
        "type(inputs)\n",
        "\n",
        "output = np.array(outputs)\n",
        "output.shape\n",
        "inputs.shape\n"
      ],
      "execution_count": 44,
      "outputs": [
        {
          "output_type": "execute_result",
          "data": {
            "text/plain": [
              "(220000, 2, 128)"
            ]
          },
          "metadata": {},
          "execution_count": 44
        }
      ]
    },
    {
      "cell_type": "code",
      "metadata": {
        "colab": {
          "base_uri": "https://localhost:8080/"
        },
        "id": "67cHCe0MFkRH",
        "outputId": "7ea34331-72f2-4fc2-fb2a-fa176ca9b604"
      },
      "source": [
        "moduls = np.array(modulation_types).reshape(len(modulation_types),1)    # 485ms\n",
        "enc = OneHotEncoder()\n",
        "enc.fit(moduls)"
      ],
      "execution_count": null,
      "outputs": [
        {
          "output_type": "execute_result",
          "data": {
            "text/plain": [
              "OneHotEncoder(categories='auto', drop=None, dtype=<class 'numpy.float64'>,\n",
              "              handle_unknown='error', sparse=True)"
            ]
          },
          "metadata": {},
          "execution_count": 16
        }
      ]
    },
    {
      "cell_type": "code",
      "metadata": {
        "id": "EUVfBx6IFnLs",
        "colab": {
          "base_uri": "https://localhost:8080/"
        },
        "outputId": "a82a0c5c-650d-4f26-e442-0174402a0a81"
      },
      "source": [
        "x_train, x_test, y_train, y_test = train_test_split(dataset, label, test_size = 0.33, random_state = 42)\n",
        "X_train, x_val, Y_train, y_val = train_test_split(x_train, y_train, test_size=0.2, random_state=1)\n",
        "\n",
        "X_train = X_train.reshape(X_train.shape[0], X_train.shape[1], X_train.shape[2], 1)\n",
        "x_test = x_test.reshape(x_test.shape[0], x_test.shape[1], x_test.shape[2], 1)\n",
        "\n",
        "#Y_train = np.array(Y_train).reshape(len(Y_train), 1)\n",
        "#y_test = np.array(y_test).reshape(len(y_test), 1)\n",
        "\n",
        "print(y_test)\n",
        "\n",
        "x_val = x_val.reshape(x_val.shape[0], x_val.shape[1], x_val.shape[2], 1)\n",
        "#y_val = np.array(y_val).reshape(len(y_val), 1)\n"
      ],
      "execution_count": 62,
      "outputs": [
        {
          "output_type": "stream",
          "text": [
            "[[0. 0. 0. ... 0. 0. 0.]\n",
            " [0. 0. 0. ... 1. 0. 0.]\n",
            " [0. 0. 0. ... 0. 0. 1.]\n",
            " ...\n",
            " [0. 0. 0. ... 1. 0. 0.]\n",
            " [0. 0. 0. ... 0. 0. 1.]\n",
            " [0. 0. 0. ... 1. 0. 0.]]\n"
          ],
          "name": "stdout"
        }
      ]
    },
    {
      "cell_type": "code",
      "metadata": {
        "id": "oivWAst-aFml"
      },
      "source": [
        "input_shape = (2,128,1)"
      ],
      "execution_count": 23,
      "outputs": []
    },
    {
      "cell_type": "code",
      "metadata": {
        "colab": {
          "base_uri": "https://localhost:8080/"
        },
        "id": "AFiC1Bg3FsNX",
        "outputId": "ccf25c0e-38c0-4ee4-ef82-7a5ceaa68fc7"
      },
      "source": [
        "    model = Sequential()\n",
        "    model.add(Conv2D(256, (3, 3), activation='relu', padding='same', kernel_initializer='glorot_uniform', input_shape = input_shape))\n",
        "    #model.add(BatchNormalization())\n",
        "    model.add(MaxPooling2D(pool_size=(1, 2), padding='valid',  data_format=None))\n",
        "    model.add(keras.layers.Dropout(.5))\n",
        "    \n",
        "    model.add(Conv2D(128, (3, 3), activation='relu', kernel_initializer='glorot_uniform', padding='same'))\n",
        "    #model.add(BatchNormalization())\n",
        "    model.add(MaxPooling2D(pool_size=(1, 2), padding='valid', data_format=None))\n",
        "    model.add(keras.layers.Dropout(.3))\n",
        "    \n",
        "    model.add(Conv2D(64, (3, 3), activation='relu', kernel_initializer='glorot_uniform', padding='same'))\n",
        "    #model.add(BatchNormalization())\n",
        "    model.add(MaxPooling2D(pool_size=(1, 2), padding='valid', data_format=None))\n",
        "    model.add(keras.layers.Dropout(.3))\n",
        "    \n",
        "    model.add(Conv2D(64, (3, 3), activation='relu', kernel_initializer='glorot_uniform', padding='same'))\n",
        "    #model.add(BatchNormalization())\n",
        "    model.add(MaxPooling2D(pool_size=(1, 2), padding='valid', data_format=None))\n",
        "    model.add(keras.layers.Dropout(.3))\n",
        "    \n",
        "    model.add(Flatten())\n",
        "    model.add(Dense(128, activation='relu', kernel_initializer='he_normal'))\n",
        "    model.add(Dense(11, activation='softmax', kernel_initializer='he_normal'))\n",
        "    model.summary()"
      ],
      "execution_count": 63,
      "outputs": [
        {
          "output_type": "stream",
          "text": [
            "Model: \"sequential_2\"\n",
            "_________________________________________________________________\n",
            "Layer (type)                 Output Shape              Param #   \n",
            "=================================================================\n",
            "conv2d_4 (Conv2D)            (None, 2, 128, 256)       2560      \n",
            "_________________________________________________________________\n",
            "max_pooling2d_4 (MaxPooling2 (None, 2, 64, 256)        0         \n",
            "_________________________________________________________________\n",
            "dropout_4 (Dropout)          (None, 2, 64, 256)        0         \n",
            "_________________________________________________________________\n",
            "conv2d_5 (Conv2D)            (None, 2, 64, 128)        295040    \n",
            "_________________________________________________________________\n",
            "max_pooling2d_5 (MaxPooling2 (None, 2, 32, 128)        0         \n",
            "_________________________________________________________________\n",
            "dropout_5 (Dropout)          (None, 2, 32, 128)        0         \n",
            "_________________________________________________________________\n",
            "conv2d_6 (Conv2D)            (None, 2, 32, 64)         73792     \n",
            "_________________________________________________________________\n",
            "max_pooling2d_6 (MaxPooling2 (None, 2, 16, 64)         0         \n",
            "_________________________________________________________________\n",
            "dropout_6 (Dropout)          (None, 2, 16, 64)         0         \n",
            "_________________________________________________________________\n",
            "conv2d_7 (Conv2D)            (None, 2, 16, 64)         36928     \n",
            "_________________________________________________________________\n",
            "max_pooling2d_7 (MaxPooling2 (None, 2, 8, 64)          0         \n",
            "_________________________________________________________________\n",
            "dropout_7 (Dropout)          (None, 2, 8, 64)          0         \n",
            "_________________________________________________________________\n",
            "flatten_1 (Flatten)          (None, 1024)              0         \n",
            "_________________________________________________________________\n",
            "dense_2 (Dense)              (None, 128)               131200    \n",
            "_________________________________________________________________\n",
            "dense_3 (Dense)              (None, 11)                1419      \n",
            "=================================================================\n",
            "Total params: 540,939\n",
            "Trainable params: 540,939\n",
            "Non-trainable params: 0\n",
            "_________________________________________________________________\n"
          ],
          "name": "stdout"
        }
      ]
    },
    {
      "cell_type": "code",
      "metadata": {
        "colab": {
          "base_uri": "https://localhost:8080/"
        },
        "id": "oz9ZPIItFwVF",
        "outputId": "44e45f50-f400-4aba-9d7a-8394ce8a3d59"
      },
      "source": [
        "optimizer = Adam(learning_rate=0.0001, beta_1=0.9, beta_2=0.999, epsilon=None, decay=0.0, amsgrad=False)\n",
        "model.compile(optimizer=optimizer, loss='categorical_crossentropy', metrics=['accuracy'])\n",
        "callbacks = tf.keras.callbacks.EarlyStopping(monitor='val_loss', patience=5)\n",
        "history = model.fit(X_train, Y_train, validation_data = (x_val, y_val), callbacks = callbacks, epochs=5, batch_size = 200)"
      ],
      "execution_count": 64,
      "outputs": [
        {
          "output_type": "stream",
          "text": [
            "Epoch 1/5\n",
            "590/590 [==============================] - 59s 49ms/step - loss: 2.2054 - accuracy: 0.1747 - val_loss: 2.0649 - val_accuracy: 0.2351\n",
            "Epoch 2/5\n",
            "590/590 [==============================] - 28s 48ms/step - loss: 1.9640 - accuracy: 0.2651 - val_loss: 1.8637 - val_accuracy: 0.3013\n",
            "Epoch 3/5\n",
            "590/590 [==============================] - 28s 48ms/step - loss: 1.8365 - accuracy: 0.3040 - val_loss: 1.7789 - val_accuracy: 0.3239\n",
            "Epoch 4/5\n",
            "590/590 [==============================] - 28s 48ms/step - loss: 1.7819 - accuracy: 0.3242 - val_loss: 1.7451 - val_accuracy: 0.3393\n",
            "Epoch 5/5\n",
            "590/590 [==============================] - 28s 48ms/step - loss: 1.7430 - accuracy: 0.3409 - val_loss: 1.7082 - val_accuracy: 0.3659\n"
          ],
          "name": "stdout"
        }
      ]
    },
    {
      "cell_type": "code",
      "metadata": {
        "id": "2hE1j6_E7vz1"
      },
      "source": [
        ""
      ],
      "execution_count": null,
      "outputs": []
    },
    {
      "cell_type": "code",
      "metadata": {
        "colab": {
          "base_uri": "https://localhost:8080/",
          "height": 346
        },
        "id": "LxN-hpW2F5o_",
        "outputId": "cfe308ec-a10c-4146-c55a-cc775d9dc63a"
      },
      "source": [
        "score = model.evaluate(x_test, y_test, verbose=2)\n",
        "print(\"Test loss:\", score[0])\n",
        "print(\"Test accuracy:\", score[1])"
      ],
      "execution_count": null,
      "outputs": [
        {
          "output_type": "error",
          "ename": "RuntimeError",
          "evalue": "ignored",
          "traceback": [
            "\u001b[0;31m---------------------------------------------------------------------------\u001b[0m",
            "\u001b[0;31mRuntimeError\u001b[0m                              Traceback (most recent call last)",
            "\u001b[0;32m<ipython-input-19-1c9440468ef4>\u001b[0m in \u001b[0;36m<module>\u001b[0;34m()\u001b[0m\n\u001b[0;32m----> 1\u001b[0;31m \u001b[0mscore\u001b[0m \u001b[0;34m=\u001b[0m \u001b[0mmodel\u001b[0m\u001b[0;34m.\u001b[0m\u001b[0mevaluate\u001b[0m\u001b[0;34m(\u001b[0m\u001b[0mx_test\u001b[0m\u001b[0;34m,\u001b[0m \u001b[0my_test\u001b[0m\u001b[0;34m,\u001b[0m \u001b[0mverbose\u001b[0m\u001b[0;34m=\u001b[0m\u001b[0;36m2\u001b[0m\u001b[0;34m)\u001b[0m\u001b[0;34m\u001b[0m\u001b[0;34m\u001b[0m\u001b[0m\n\u001b[0m\u001b[1;32m      2\u001b[0m \u001b[0mprint\u001b[0m\u001b[0;34m(\u001b[0m\u001b[0;34m\"Test loss:\"\u001b[0m\u001b[0;34m,\u001b[0m \u001b[0mscore\u001b[0m\u001b[0;34m[\u001b[0m\u001b[0;36m0\u001b[0m\u001b[0;34m]\u001b[0m\u001b[0;34m)\u001b[0m\u001b[0;34m\u001b[0m\u001b[0;34m\u001b[0m\u001b[0m\n\u001b[1;32m      3\u001b[0m \u001b[0mprint\u001b[0m\u001b[0;34m(\u001b[0m\u001b[0;34m\"Test accuracy:\"\u001b[0m\u001b[0;34m,\u001b[0m \u001b[0mscore\u001b[0m\u001b[0;34m[\u001b[0m\u001b[0;36m1\u001b[0m\u001b[0;34m]\u001b[0m\u001b[0;34m)\u001b[0m\u001b[0;34m\u001b[0m\u001b[0;34m\u001b[0m\u001b[0m\n",
            "\u001b[0;32m/usr/local/lib/python3.7/dist-packages/keras/engine/training.py\u001b[0m in \u001b[0;36mevaluate\u001b[0;34m(self, x, y, batch_size, verbose, sample_weight, steps, callbacks, max_queue_size, workers, use_multiprocessing, return_dict, **kwargs)\u001b[0m\n\u001b[1;32m   1446\u001b[0m     \u001b[0mbase_layer\u001b[0m\u001b[0;34m.\u001b[0m\u001b[0mkeras_api_gauge\u001b[0m\u001b[0;34m.\u001b[0m\u001b[0mget_cell\u001b[0m\u001b[0;34m(\u001b[0m\u001b[0;34m'evaluate'\u001b[0m\u001b[0;34m)\u001b[0m\u001b[0;34m.\u001b[0m\u001b[0mset\u001b[0m\u001b[0;34m(\u001b[0m\u001b[0;32mTrue\u001b[0m\u001b[0;34m)\u001b[0m\u001b[0;34m\u001b[0m\u001b[0;34m\u001b[0m\u001b[0m\n\u001b[1;32m   1447\u001b[0m     \u001b[0mversion_utils\u001b[0m\u001b[0;34m.\u001b[0m\u001b[0mdisallow_legacy_graph\u001b[0m\u001b[0;34m(\u001b[0m\u001b[0;34m'Model'\u001b[0m\u001b[0;34m,\u001b[0m \u001b[0;34m'evaluate'\u001b[0m\u001b[0;34m)\u001b[0m\u001b[0;34m\u001b[0m\u001b[0;34m\u001b[0m\u001b[0m\n\u001b[0;32m-> 1448\u001b[0;31m     \u001b[0mself\u001b[0m\u001b[0;34m.\u001b[0m\u001b[0m_assert_compile_was_called\u001b[0m\u001b[0;34m(\u001b[0m\u001b[0;34m)\u001b[0m\u001b[0;34m\u001b[0m\u001b[0;34m\u001b[0m\u001b[0m\n\u001b[0m\u001b[1;32m   1449\u001b[0m     \u001b[0mself\u001b[0m\u001b[0;34m.\u001b[0m\u001b[0m_check_call_args\u001b[0m\u001b[0;34m(\u001b[0m\u001b[0;34m'evaluate'\u001b[0m\u001b[0;34m)\u001b[0m\u001b[0;34m\u001b[0m\u001b[0;34m\u001b[0m\u001b[0m\n\u001b[1;32m   1450\u001b[0m     \u001b[0m_disallow_inside_tf_function\u001b[0m\u001b[0;34m(\u001b[0m\u001b[0;34m'evaluate'\u001b[0m\u001b[0;34m)\u001b[0m\u001b[0;34m\u001b[0m\u001b[0;34m\u001b[0m\u001b[0m\n",
            "\u001b[0;32m/usr/local/lib/python3.7/dist-packages/keras/engine/training.py\u001b[0m in \u001b[0;36m_assert_compile_was_called\u001b[0;34m(self)\u001b[0m\n\u001b[1;32m   2788\u001b[0m     \u001b[0;31m# (i.e. whether the model is built and its inputs/outputs are set).\u001b[0m\u001b[0;34m\u001b[0m\u001b[0;34m\u001b[0m\u001b[0;34m\u001b[0m\u001b[0m\n\u001b[1;32m   2789\u001b[0m     \u001b[0;32mif\u001b[0m \u001b[0;32mnot\u001b[0m \u001b[0mself\u001b[0m\u001b[0;34m.\u001b[0m\u001b[0m_is_compiled\u001b[0m\u001b[0;34m:\u001b[0m\u001b[0;34m\u001b[0m\u001b[0;34m\u001b[0m\u001b[0m\n\u001b[0;32m-> 2790\u001b[0;31m       raise RuntimeError('You must compile your model before '\n\u001b[0m\u001b[1;32m   2791\u001b[0m                          \u001b[0;34m'training/testing. '\u001b[0m\u001b[0;34m\u001b[0m\u001b[0;34m\u001b[0m\u001b[0m\n\u001b[1;32m   2792\u001b[0m                          'Use `model.compile(optimizer, loss)`.')\n",
            "\u001b[0;31mRuntimeError\u001b[0m: You must compile your model before training/testing. Use `model.compile(optimizer, loss)`."
          ]
        }
      ]
    },
    {
      "cell_type": "code",
      "metadata": {
        "colab": {
          "base_uri": "https://localhost:8080/",
          "height": 295
        },
        "id": "zaDJtRTgWAf_",
        "outputId": "f181e3d1-fb2b-4578-bf5d-7171314558d2"
      },
      "source": [
        "plt.plot(history.history['accuracy'])\n",
        "plt.plot(history.history['val_accuracy'])\n",
        "plt.title('model accuracy')\n",
        "plt.ylabel('accuracy')\n",
        "plt.xlabel('epoch')\n",
        "plt.legend(['train', 'test'], loc='upper left')\n",
        "plt.show()"
      ],
      "execution_count": null,
      "outputs": [
        {
          "output_type": "display_data",
          "data": {
            "image/png": "[encoded data removed]",
            "text/plain": [
              "<Figure size 432x288 with 1 Axes>"
            ]
          },
          "metadata": {
            "needs_background": "light"
          }
        }
      ]
    },
    {
      "cell_type": "code",
      "metadata": {
        "colab": {
          "base_uri": "https://localhost:8080/",
          "height": 313
        },
        "id": "KjBOmjO7XIUM",
        "outputId": "3ed12184-f0b2-4b4b-8388-9e85f83581e4"
      },
      "source": [
        "plt.plot(history.history['loss'])\n",
        "plt.plot(history.history['val_loss'])\n",
        "plt.title('Training and Validation loss')\n",
        "plt.xlabel('Epochs')\n",
        "plt.ylabel('Loss')\n",
        "plt.legend()\n",
        "plt.show()"
      ],
      "execution_count": null,
      "outputs": [
        {
          "output_type": "stream",
          "text": [
            "No handles with labels found to put in legend.\n"
          ],
          "name": "stderr"
        },
        {
          "output_type": "display_data",
          "data": {
            "image/png": "[encoded data removed]",
            "text/plain": [
              "<Figure size 432x288 with 1 Axes>"
            ]
          },
          "metadata": {
            "needs_background": "light"
          }
        }
      ]
    },
    {
      "cell_type": "code",
      "metadata": {
        "colab": {
          "base_uri": "https://localhost:8080/",
          "height": 295
        },
        "id": "IP__IwxBXxrc",
        "outputId": "56236fdb-ebba-483e-ba7c-d2b41201f10c"
      },
      "source": [
        "plt.title(model)\n",
        "plt.xlabel('SNR [dB]')\n",
        "plt.ylabel('Accuracy [%]')\n",
        "plt.grid()\n",
        "plt.show()"
      ],
      "execution_count": null,
      "outputs": [
        {
          "output_type": "display_data",
          "data": {
            "image/png": "[encoded data removed]",
            "text/plain": [
              "<Figure size 432x288 with 1 Axes>"
            ]
          },
          "metadata": {
            "needs_background": "light"
          }
        }
      ]
    },
    {
      "cell_type": "code",
      "metadata": {
        "id": "1dxR6_cILr97"
      },
      "source": [
        "def sorter(dataset1, legend1 = None, model = ''):\n",
        " \n",
        "    y = []\n",
        "    x = []\n",
        "\n",
        "    for i in range(len(dataset1)):\n",
        "        x.append(dataset1[i][1])\n",
        "    x = sorted(x)\n",
        "\n",
        "\n",
        "    for i in x:\n",
        "        for j in range(len(dataset1)):\n",
        "            if dataset1[j][1]  == i:\n",
        "                y.append(dataset1[j][0])\n",
        "        \n",
        "    fig = plt.figure(figsize = (10,8))\n",
        "    plt.plot(x,y, linestyle = '--', marker = 'o', label = legend1)\n",
        "   \n",
        "    plt.title(model)\n",
        "    plt.xlabel('SNR [dB]')\n",
        "    plt.ylabel('Accuracy [%]')\n",
        "    plt.grid()\n",
        "    plt.show()"
      ],
      "execution_count": null,
      "outputs": []
    },
    {
      "cell_type": "code",
      "metadata": {
        "colab": {
          "base_uri": "https://localhost:8080/",
          "height": 513
        },
        "id": "1HKvd8-gTXcu",
        "outputId": "c1f6e069-131d-4313-fab8-e067aa159f64"
      },
      "source": [
        "sorter(accuracies_All, 'fcxgf', model = 'Performance of all Trained Models over RadioML2016.10a Dataset')"
      ],
      "execution_count": null,
      "outputs": [
        {
          "output_type": "display_data",
          "data": {
            "image/png": "[encoded data removed]",
            "text/plain": [
              "<Figure size 720x576 with 1 Axes>"
            ]
          },
          "metadata": {
            "needs_background": "light"
          }
        }
      ]
    },
    {
      "cell_type": "code",
      "metadata": {
        "id": "GGYCh62mUVB6"
      },
      "source": [
        ""
      ],
      "execution_count": null,
      "outputs": []
    }
  ]
}